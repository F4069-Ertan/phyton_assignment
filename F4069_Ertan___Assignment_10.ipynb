{
  "nbformat": 4,
  "nbformat_minor": 0,
  "metadata": {
    "colab": {
      "provenance": [],
      "authorship_tag": "ABX9TyOCHQ6JDyXmF7tt7Rv96o/W",
      "include_colab_link": true
    },
    "kernelspec": {
      "name": "python3",
      "display_name": "Python 3"
    },
    "language_info": {
      "name": "python"
    }
  },
  "cells": [
    {
      "cell_type": "markdown",
      "metadata": {
        "id": "view-in-github",
        "colab_type": "text"
      },
      "source": [
        "<a href=\"https://colab.research.google.com/github/F4069-Ertan/phyton_assignment/blob/main/F4069_Ertan___Assignment_10.ipynb\" target=\"_parent\"><img src=\"https://colab.research.google.com/assets/colab-badge.svg\" alt=\"Open In Colab\"/></a>"
      ]
    },
    {
      "cell_type": "code",
      "execution_count": 5,
      "metadata": {
        "colab": {
          "base_uri": "https://localhost:8080/"
        },
        "id": "vdbkPQA0dYw-",
        "outputId": "0dc595ee-9ee1-42d8-bdc3-339b9f6938b0"
      },
      "outputs": [
        {
          "output_type": "stream",
          "name": "stdout",
          "text": [
            "Are you a cigarette addict older than 75 years old? yes\n",
            "Do you have a severe chronic disease? YES\n",
            "Is your immune system too weak? YES\n",
            "You are in risky group!!!\n"
          ]
        }
      ],
      "source": [
        "# Yapılan alan araştırmasına göre verilen cevaplardan birinin \"yes\" olması risk için yeterli görülmüştür.\n",
        "\n",
        "age = input(\"Are you a cigarette addict older than 75 years old? \").title() == \"Yes\" \n",
        "chronic = input(\"Do you have a severe chronic disease? \").title() == \"Yes\"\n",
        "immune = input(\"Is your immune system too weak? \").title() == \"Yes\"\n",
        "\n",
        "risk = age or chronic or immune\n",
        "\n",
        "if risk:\n",
        "  print(\"You are in risky group!!!\")\n",
        "else:\n",
        "  print(\"You are not in risky group\")"
      ]
    },
    {
      "cell_type": "code",
      "source": [],
      "metadata": {
        "id": "iKcY_iPKdZjy"
      },
      "execution_count": null,
      "outputs": []
    },
    {
      "cell_type": "code",
      "source": [],
      "metadata": {
        "id": "TK4r4TkQdZmK"
      },
      "execution_count": null,
      "outputs": []
    },
    {
      "cell_type": "code",
      "source": [],
      "metadata": {
        "id": "eebtpf_UdZo6"
      },
      "execution_count": null,
      "outputs": []
    },
    {
      "cell_type": "code",
      "source": [],
      "metadata": {
        "id": "-EWqmM1JdZrk"
      },
      "execution_count": null,
      "outputs": []
    },
    {
      "cell_type": "code",
      "source": [],
      "metadata": {
        "id": "iNb6xHc_dZt7"
      },
      "execution_count": null,
      "outputs": []
    },
    {
      "cell_type": "code",
      "source": [],
      "metadata": {
        "id": "eHIZEvQbdZvr"
      },
      "execution_count": null,
      "outputs": []
    }
  ]
}