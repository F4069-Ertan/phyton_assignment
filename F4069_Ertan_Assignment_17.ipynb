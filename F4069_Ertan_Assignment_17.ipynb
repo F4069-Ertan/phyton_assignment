{
  "nbformat": 4,
  "nbformat_minor": 0,
  "metadata": {
    "colab": {
      "provenance": [],
      "authorship_tag": "ABX9TyPzOG+ZwmWBX4XZPm8/mkDv",
      "include_colab_link": true
    },
    "kernelspec": {
      "name": "python3",
      "display_name": "Python 3"
    },
    "language_info": {
      "name": "python"
    }
  },
  "cells": [
    {
      "cell_type": "markdown",
      "metadata": {
        "id": "view-in-github",
        "colab_type": "text"
      },
      "source": [
        "<a href=\"https://colab.research.google.com/github/F4069-Ertan/phyton_assignment/blob/main/F4069_Ertan_Assignment_17.ipynb\" target=\"_parent\"><img src=\"https://colab.research.google.com/assets/colab-badge.svg\" alt=\"Open In Colab\"/></a>"
      ]
    },
    {
      "cell_type": "code",
      "execution_count": 7,
      "metadata": {
        "colab": {
          "base_uri": "https://localhost:8080/"
        },
        "id": "Gfi-MiK14bdE",
        "outputId": "e9a44bae-b42f-4932-8df1-b9fd5660d8bb"
      },
      "outputs": [
        {
          "output_type": "stream",
          "name": "stdout",
          "text": [
            "Please write your sentence: Clarusway ailesini seviyorum!:)))\n",
            "{'C': 1, 'l': 2, 'a': 3, 'r': 2, 'u': 2, 's': 3, 'w': 1, 'y': 2, ' ': 2, 'i': 4, 'e': 2, 'n': 1, 'v': 1, 'o': 1, 'm': 1, '!': 1, ':': 1, ')': 3}\n"
          ]
        }
      ],
      "source": [
        "sentence = input(\"Please write your sentence: \")\n",
        "numbers = []\n",
        "\n",
        "for i in sentence:\n",
        "    numbers.append(sentence.count(i))\n",
        "    \n",
        "print(dict(zip(sentence, numbers)))"
      ]
    }
  ]
}