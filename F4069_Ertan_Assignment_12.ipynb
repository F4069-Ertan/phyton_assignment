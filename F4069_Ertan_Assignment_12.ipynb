{
  "nbformat": 4,
  "nbformat_minor": 0,
  "metadata": {
    "colab": {
      "provenance": [],
      "collapsed_sections": [],
      "authorship_tag": "ABX9TyPFgMrUMGTy2npHaw36UFRe",
      "include_colab_link": true
    },
    "kernelspec": {
      "name": "python3",
      "display_name": "Python 3"
    },
    "language_info": {
      "name": "python"
    }
  },
  "cells": [
    {
      "cell_type": "markdown",
      "metadata": {
        "id": "view-in-github",
        "colab_type": "text"
      },
      "source": [
        "<a href=\"https://colab.research.google.com/github/F4069-Ertan/phyton_assignment/blob/main/F4069_Ertan_Assignment_12.ipynb\" target=\"_parent\"><img src=\"https://colab.research.google.com/assets/colab-badge.svg\" alt=\"Open In Colab\"/></a>"
      ]
    },
    {
      "cell_type": "code",
      "source": [
        "\n",
        "\n",
        "\n",
        "n = input(\"Please enter a positive number to see whether it is a Armstrong Number: \")\n",
        "\n",
        "if not n.isdigit():\n",
        "  print(\"Invalid entry! try again\")\n",
        "  n = input(\"Please enter a positive number to see whether it is a Armstrong Number: \")\n",
        "else:\n",
        "  num = int(n)\n",
        "\n",
        "total = 0\n",
        "t = len(n)\n",
        "m = range(len(n))\n",
        "\n",
        "for j in m:\n",
        "  total += int(n[j])**t\n",
        "  j += 1\n",
        "if total == int(n):\n",
        "  print(f\"  {n} is an Armstrong Number\")\n",
        "else:\n",
        "  print(f\"  {n} is not an Armstrong Number\")\n",
        "\n",
        "\n",
        "\n",
        "\n"
      ],
      "metadata": {
        "colab": {
          "base_uri": "https://localhost:8080/"
        },
        "id": "2s8If8aRE6GC",
        "outputId": "0cebf891-4474-40d6-82eb-0e4185543306"
      },
      "execution_count": 38,
      "outputs": [
        {
          "output_type": "stream",
          "name": "stdout",
          "text": [
            "Please enter a positive number to see whether it is a Armstrong Number: 123d\n",
            "Invalid entry! try again\n",
            "Please enter a positive number to see whether it is a Armstrong Number: 123\n",
            "  123 is not an Armstrong Number\n"
          ]
        }
      ]
    },
    {
      "cell_type": "code",
      "source": [],
      "metadata": {
        "id": "wy41PAv7crOG"
      },
      "execution_count": null,
      "outputs": []
    }
  ]
}