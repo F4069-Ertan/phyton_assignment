{
  "nbformat": 4,
  "nbformat_minor": 0,
  "metadata": {
    "colab": {
      "provenance": [],
      "collapsed_sections": [],
      "authorship_tag": "ABX9TyO4Y59YucMFcXwaXkGUyU0L",
      "include_colab_link": true
    },
    "kernelspec": {
      "name": "python3",
      "display_name": "Python 3"
    },
    "language_info": {
      "name": "python"
    }
  },
  "cells": [
    {
      "cell_type": "markdown",
      "metadata": {
        "id": "view-in-github",
        "colab_type": "text"
      },
      "source": [
        "<a href=\"https://colab.research.google.com/github/F4069-Ertan/phyton_assignment/blob/main/F4069_Ertan_Assignment_13.ipynb\" target=\"_parent\"><img src=\"https://colab.research.google.com/assets/colab-badge.svg\" alt=\"Open In Colab\"/></a>"
      ]
    },
    {
      "cell_type": "code",
      "execution_count": 42,
      "metadata": {
        "colab": {
          "base_uri": "https://localhost:8080/"
        },
        "id": "6IAyAMiKnXZe",
        "outputId": "1647626d-712a-43b7-dc4a-bec5fcf185a3"
      },
      "outputs": [
        {
          "output_type": "stream",
          "name": "stdout",
          "text": [
            "Please enter a number:39\n",
            "39 is not a prime number\n"
          ]
        }
      ],
      "source": [
        "n = int(input(\"Please enter a number:\"))\n",
        "bolen = [2, 3, 5, 7]\n",
        "bolen_list = []\n",
        "\n",
        "for i in bolen:\n",
        "  if not n % i == 0:\n",
        "    bolen_list.append(i)\n",
        "\n",
        "if bolen_list == bolen:\n",
        "  print(f\"{n} is a prime number\")\n",
        "else:\n",
        "  print(f\"{n} is not a prime number\")\n",
        "    \n",
        "\n",
        "\n",
        "\n",
        "\n"
      ]
    },
    {
      "cell_type": "code",
      "source": [],
      "metadata": {
        "id": "fkr-96_Snde3"
      },
      "execution_count": null,
      "outputs": []
    },
    {
      "cell_type": "code",
      "source": [],
      "metadata": {
        "id": "D1zz0fn6ndhg"
      },
      "execution_count": null,
      "outputs": []
    }
  ]
}