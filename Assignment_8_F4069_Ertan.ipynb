{
  "nbformat": 4,
  "nbformat_minor": 0,
  "metadata": {
    "colab": {
      "provenance": [],
      "authorship_tag": "ABX9TyMhGisdOIGlgyXS3yaZGzrF",
      "include_colab_link": true
    },
    "kernelspec": {
      "name": "python3",
      "display_name": "Python 3"
    },
    "language_info": {
      "name": "python"
    }
  },
  "cells": [
    {
      "cell_type": "markdown",
      "metadata": {
        "id": "view-in-github",
        "colab_type": "text"
      },
      "source": [
        "<a href=\"https://colab.research.google.com/github/F4069-Ertan/phyton_assignment/blob/main/Assignment_8_F4069_Ertan.ipynb\" target=\"_parent\"><img src=\"https://colab.research.google.com/assets/colab-badge.svg\" alt=\"Open In Colab\"/></a>"
      ]
    },
    {
      "cell_type": "code",
      "execution_count": 4,
      "metadata": {
        "colab": {
          "base_uri": "https://localhost:8080/"
        },
        "id": "xe0Cs7Nvaz6o",
        "outputId": "a500d6dc-d09a-467d-a61a-4fed947c04ea"
      },
      "outputs": [
        {
          "output_type": "stream",
          "name": "stdout",
          "text": [
            "Lütfen adınızı giriniz: ERTAN\n",
            "Merhaba Ertan bey şifreniz: E20101736zov\n"
          ]
        }
      ],
      "source": [
        "password = \"E20101736zov\"\n",
        "user_name = \"Ertan\"\n",
        "user_name1 = input(\"Lütfen adınızı giriniz: \").title()\n",
        "\n",
        "if user_name == user_name1: \n",
        "   print(f\"Merhaba Ertan bey şifreniz: {password}\")\n",
        "else :\n",
        "    print(\"Haydi yoluna birader!\")"
      ]
    },
    {
      "cell_type": "code",
      "source": [],
      "metadata": {
        "id": "UFuCWEhGa4j6"
      },
      "execution_count": null,
      "outputs": []
    },
    {
      "cell_type": "code",
      "source": [],
      "metadata": {
        "id": "ccujtgmta4zF"
      },
      "execution_count": null,
      "outputs": []
    },
    {
      "cell_type": "code",
      "source": [],
      "metadata": {
        "id": "0IrdCSaoa41S"
      },
      "execution_count": null,
      "outputs": []
    },
    {
      "cell_type": "code",
      "source": [],
      "metadata": {
        "id": "DeYANPnNa432"
      },
      "execution_count": null,
      "outputs": []
    },
    {
      "cell_type": "code",
      "source": [],
      "metadata": {
        "id": "6LUTF7l5a46L"
      },
      "execution_count": null,
      "outputs": []
    },
    {
      "cell_type": "code",
      "source": [],
      "metadata": {
        "id": "JnmaKIc8a4-T"
      },
      "execution_count": null,
      "outputs": []
    }
  ]
}