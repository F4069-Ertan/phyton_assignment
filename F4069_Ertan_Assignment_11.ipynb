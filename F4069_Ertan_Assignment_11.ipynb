{
  "nbformat": 4,
  "nbformat_minor": 0,
  "metadata": {
    "colab": {
      "provenance": [],
      "authorship_tag": "ABX9TyOQf/icvJ08d2Qk7R4c1YI+",
      "include_colab_link": true
    },
    "kernelspec": {
      "name": "python3",
      "display_name": "Python 3"
    },
    "language_info": {
      "name": "python"
    }
  },
  "cells": [
    {
      "cell_type": "markdown",
      "metadata": {
        "id": "view-in-github",
        "colab_type": "text"
      },
      "source": [
        "<a href=\"https://colab.research.google.com/github/F4069-Ertan/phyton_assignment/blob/main/F4069_Ertan_Assignment_11.ipynb\" target=\"_parent\"><img src=\"https://colab.research.google.com/assets/colab-badge.svg\" alt=\"Open In Colab\"/></a>"
      ]
    },
    {
      "cell_type": "code",
      "execution_count": 1,
      "metadata": {
        "colab": {
          "base_uri": "https://localhost:8080/"
        },
        "id": "Fqv4OJvsrsBq",
        "outputId": "2eb4ed04-4c1b-4a54-d191-ee9c4a5a7bf1"
      },
      "outputs": [
        {
          "output_type": "stream",
          "name": "stdout",
          "text": [
            "Please enter a year to see whether it is a leap year: 240\n",
            "240 is a leap year\n"
          ]
        }
      ],
      "source": [
        "year = int(input(\"Please enter a year to see whether it is a leap year: \"))\n",
        "leap = (year % 4 == 0) and (year % 100 != 0 or year % 400 == 0)\n",
        "if leap :\n",
        "  print(f\"{year} is a leap year\")\n",
        "else :\n",
        "  print(f\"{year} is not a leap year\")"
      ]
    }
  ]
}